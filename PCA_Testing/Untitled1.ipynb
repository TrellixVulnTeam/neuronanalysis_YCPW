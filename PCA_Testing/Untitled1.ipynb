{
 "cells": [
  {
   "cell_type": "code",
   "execution_count": 1,
   "metadata": {},
   "outputs": [],
   "source": [
    "import pickle\n",
    "with open('new_pick.pickle', 'rb') as handle:\n",
    "    curr_mappings = pickle.load(handle)"
   ]
  },
  {
   "cell_type": "code",
   "execution_count": 4,
   "metadata": {},
   "outputs": [
    {
     "data": {
      "text/plain": [
       "dict_keys(['L23_BTC_cAC', 'L6_BTC_cNAC', 'L1_SLAC_cAC', 'L5_NBC_bSTUT', 'L5_NBC_dSTUT', 'L6_NBC_cSTUT', 'L4_LBC_cSTUT', 'L6_MC_cIR', 'L23_NGC_cSTUT', 'L6_LBC_bNAC', 'L4_NBC_cIR', 'L6_LBC_bSTUT', 'L4_SBC_cAC', 'L6_BTC_cAC', 'L1_DAC_cNAC', 'L5_NBC_cSTUT', 'L1_HAC_cIR', 'L4_SP_cADpyr', 'L4_LBC_dNAC', 'L5_TTPC2_cADpyr', 'L6_DBC_bNAC', 'L6_SBC_cAC', 'L4_LBC_cNAC', 'L23_LBC_dNAC', 'L23_BP_dSTUT', 'L6_TPC_L4_cADpyr', 'L6_SBC_bNAC', 'L23_NBC_cIR', 'L23_SBC_bNAC', 'L5_DBC_cNAC', 'L23_NBC_dNAC', 'L23_NBC_cAC', 'L1_NGC-DA_cNAC', 'L5_NGC_cNAC', 'L5_NGC_cSTUT', 'L23_PC_cADpyr', 'L5_LBC_cAC', 'L5_DBC_cIR', 'L23_ChC_cNAC', 'L5_LBC_dNAC', 'L5_BTC_cAC', 'L6_NGC_bNAC', 'L23_BTC_cNAC', 'L4_ChC_cNAC', 'L1_NGC-DA_cAC', 'L5_ChC_cAC', 'L5_BP_dSTUT', 'L4_SBC_dNAC', 'L1_NGC-DA_cSTUT', 'L5_ChC_cNAC', 'L4_NGC_cSTUT', 'L4_MC_dNAC', 'L23_LBC_bNAC', 'L6_BP_bNAC', 'L1_DAC_bNAC', 'L6_TPC_L1_cADpyr', 'L4_NBC_cNAC', 'L23_NGC_cAC', 'L4_BP_cAC', 'L23_NBC_bNAC', 'L4_NGC_cNAC', 'L5_NBC_cIR', 'L23_BTC_bNAC', 'L6_NBC_cAC', 'L6_ChC_dNAC', 'L5_BTC_cNAC', 'L4_DBC_cNAC', 'L4_LBC_dSTUT', 'L5_NGC_bNAC', 'L5_MC_cSTUT', 'L23_LBC_cNAC', 'L4_BP_cNAC', 'L5_ChC_dNAC', 'L5_SBC_dNAC', 'L5_NGC_cAC', 'L23_ChC_cAC', 'L4_SBC_bNAC', 'L5_MC_bSTUT', 'L5_UTPC_cADpyr', 'L23_BP_cNAC', 'L6_NGC_cNAC', 'L4_BP_dSTUT', 'L5_TTPC1_cADpyr', 'L4_DBC_cAC', 'L6_BP_cNAC', 'L1_HAC_cNAC', 'L5_MC_dNAC', 'L23_DBC_cAC', 'L5_DBC_bSTUT', 'L4_DBC_bNAC', 'L5_MC_cAC', 'L6_MC_cNAC', 'L1_SLAC_cNAC', 'L6_DBC_cNAC', 'L5_DBC_bNAC', 'L5_BP_bNAC', 'L6_MC_bNAC', 'L4_NGC_bNAC', 'L4_NBC_cAC', 'L4_PC_cADpyr', 'L4_BTC_bSTUT', 'L4_BTC_cNAC', 'L23_SBC_dNAC', 'L4_BTC_dNAC', 'L6_BPC_cADpyr', 'L4_MC_cAC', 'L6_NGC_cAC', 'L6_NGC_cSTUT', 'L4_BP_bNAC', 'L6_NBC_bSTUT', 'L23_LBC_cSTUT', 'L23_NGC_cNAC', 'L1_SLAC_bNAC', 'L23_ChC_dNAC', 'L6_BP_dSTUT', 'L23_DBC_bNAC', 'L23_MC_cNAC', 'L23_NBC_cNAC', 'L23_MC_dNAC', 'L6_SBC_dNAC', 'L6_MC_cAC', 'L4_MC_cNAC', 'L4_LBC_cAC', 'L4_SS_cADpyr', 'L6_MC_bSTUT', 'L5_BP_cNAC', 'L6_DBC_cAC', 'L6_LBC_cSTUT', 'L5_BP_cAC', 'L4_DBC_cIR', 'L23_SBC_cAC', 'L6_IPC_cADpyr', 'L6_ChC_cNAC', 'L6_NBC_dSTUT', 'L23_NGC_bNAC', 'L6_ChC_cAC', 'L1_HAC_bNAC', 'L1_NGC-SA_cNAC', 'L5_NBC_cAC', 'L23_MC_bNAC', 'L5_DBC_cAC', 'L23_LBC_cAC', 'L1_NGC-DA_bNAC', 'L6_NBC_cIR', 'L1_DLAC_cNAC', 'L4_BTC_cAC', 'L6_BP_cAC', 'L4_NBC_dNAC', 'L5_NBC_cNAC', 'L23_BP_cAC', 'L4_ChC_dNAC', 'L5_LBC_dSTUT', 'L4_MC_bNAC', 'L4_DBC_bSTUT', 'L5_STPC_cADpyr', 'L5_SBC_bNAC', 'L23_MC_cAC', 'L23_BP_bNAC', 'L4_NGC_cAC', 'L5_LBC_cSTUT', 'L6_UTPC_cADpyr', 'L4_ChC_cAC', 'L6_LBC_cNAC', 'L5_LBC_cIR', 'L5_MC_cNAC', 'L6_DBC_cIR', 'L6_NBC_cNAC', 'L5_LBC_cNAC', 'L6_DBC_bSTUT', 'L5_SBC_cAC'])"
      ]
     },
     "execution_count": 4,
     "metadata": {},
     "output_type": "execute_result"
    }
   ],
   "source": [
    "curr_mappings.keys()"
   ]
  },
  {
   "cell_type": "code",
   "execution_count": null,
   "metadata": {},
   "outputs": [],
   "source": []
  }
 ],
 "metadata": {
  "kernelspec": {
   "display_name": "Python 3",
   "language": "python",
   "name": "python3"
  },
  "language_info": {
   "codemirror_mode": {
    "name": "ipython",
    "version": 3
   },
   "file_extension": ".py",
   "mimetype": "text/x-python",
   "name": "python",
   "nbconvert_exporter": "python",
   "pygments_lexer": "ipython3",
   "version": "3.6.1"
  }
 },
 "nbformat": 4,
 "nbformat_minor": 2
}
