{
 "cells": [
  {
   "cell_type": "code",
   "execution_count": 1,
   "metadata": {},
   "outputs": [],
   "source": [
    "import tmd\n",
    "from tmd.view import view, plot\n",
    "import os"
   ]
  },
  {
   "cell_type": "code",
   "execution_count": 2,
   "metadata": {},
   "outputs": [],
   "source": [
    "distance_stepped = []\n",
    "distance_horizontal = []"
   ]
  },
  {
   "cell_type": "code",
   "execution_count": 6,
   "metadata": {},
   "outputs": [
    {
     "name": "stderr",
     "output_type": "stream",
     "text": [
      "/opt/anaconda3/envs/TMD/lib/python3.8/site-packages/tmd/view/common.py:146: MatplotlibDeprecationWarning: Adding an axes using the same arguments as a previous axes currently reuses the earlier instance.  In a future version, a new instance will always be created and returned.  Meanwhile, this warning can be suppressed, and the future behavior ensured, by passing a unique label to each axes instance.\n",
      "  ax = fig.add_subplot(subplot, **params)\n",
      "/opt/anaconda3/envs/TMD/lib/python3.8/site-packages/tmd/view/common.py:146: MatplotlibDeprecationWarning: Adding an axes using the same arguments as a previous axes currently reuses the earlier instance.  In a future version, a new instance will always be created and returned.  Meanwhile, this warning can be suppressed, and the future behavior ensured, by passing a unique label to each axes instance.\n",
      "  ax = fig.add_subplot(subplot, **params)\n"
     ]
    },
    {
     "data": {
      "text/plain": [
       "(<Figure size 432x288 with 1 Axes>,\n",
       " <matplotlib.axes._subplots.AxesSubplot at 0x11ead43a0>)"
      ]
     },
     "execution_count": 6,
     "metadata": {},
     "output_type": "execute_result"
    },
    {
     "data": {
      "image/png": "[encoded data removed]",
      "text/plain": [
       "<Figure size 432x288 with 1 Axes>"
      ]
     },
     "metadata": {
      "needs_background": "light"
     },
     "output_type": "display_data"
    },
    {
     "data": {
      "image/png": "[encoded data removed]",
      "text/plain": [
       "<Figure size 432x288 with 1 Axes>"
      ]
     },
     "metadata": {
      "needs_background": "light"
     },
     "output_type": "display_data"
    }
   ],
   "source": [
    "filename_base = '/Users/shivam/Desktop/neuron_analysis/TMD/tests/data/valid/sample.swc'\n",
    "neu_base = tmd.io.load_neuron(filename_base)\n",
    "tree_base = neu_base.neurites[0]\n",
    "ph1_base = tmd.methods.get_persistence_diagram(tree_base)\n",
    "ph_neu_base = tmd.methods.get_ph_neuron(neu_base)\n",
    "view.neuron(neu_base)\n",
    "ph_all_base = tmd.methods.get_ph_neuron(neu_base, neurite_type='all')\n",
    "plot.barcode(ph_all_base)"
   ]
  },
  {
   "cell_type": "code",
   "execution_count": 13,
   "metadata": {},
   "outputs": [],
   "source": [
    "directory = os.fsencode(\"/Users/shivam/Desktop/neuron_analysis/TMD/cells_being_used\")"
   ]
  },
  {
   "cell_type": "code",
   "execution_count": 8,
   "metadata": {},
   "outputs": [],
   "source": [
    "mapping = {'L1_DAC_bNAC219_1': 'bbp001',\n",
    " 'L1_HAC_bNAC219_1': 'bbp004',\n",
    " 'L1_NGC-DA_bNAC219_1': 'bbp007',\n",
    " 'L1_SLAC_bNAC219_1': 'bbp012',\n",
    " 'L23_BP_bNAC219_1': 'bbp017',\n",
    " 'L23_BTC_bNAC219_1': 'bbp023',\n",
    " 'L23_DBC_bNAC219_1': 'bbp031',\n",
    " 'L23_LBC_bNAC219_1': 'bbp034',\n",
    " 'L23_MC_bNAC219_1': 'bbp040',\n",
    " 'L23_NBC_bNAC219_1': 'bbp045',\n",
    " 'L23_NGC_bNAC219_1': 'bbp050',\n",
    " 'L23_SBC_bNAC219_1': 'bbp055',\n",
    " 'L4_BP_bNAC219_1': 'bbp060',\n",
    " 'L4_DBC_bNAC219_1': 'bbp075',\n",
    " 'L4_MC_bNAC219_1': 'bbp086',\n",
    " 'L4_NGC_bNAC219_1': 'bbp094',\n",
    " 'L4_SBC_bNAC219_1': 'bbp099',\n",
    " 'L5_BP_bNAC219_1': 'bbp106',\n",
    " 'L5_DBC_bNAC219_1': 'bbp118',\n",
    " 'L5_NGC_bNAC219_1': 'bbp145',\n",
    " 'L5_SBC_bNAC219_1': 'bbp149',\n",
    " 'L6_BP_bNAC219_1': 'bbp159',\n",
    " 'L6_DBC_bNAC219_1': 'bbp171',\n",
    " 'L6_LBC_bNAC219_1': 'bbp179',\n",
    " 'L6_MC_bNAC219_1': 'bbp185',\n",
    " 'L6_NGC_bNAC219_1': 'bbp198',\n",
    " 'L6_SBC_bNAC219_1': 'bbp202',\n",
    " 'L4_BTC_bSTUT213_1': 'bbp066',\n",
    " 'L4_DBC_bSTUT213_1': 'bbp076',\n",
    " 'L5_DBC_bSTUT213_1': 'bbp119',\n",
    " 'L5_MC_bSTUT213_1': 'bbp132',\n",
    " 'L5_NBC_bSTUT213_1': 'bbp139',\n",
    " 'L6_DBC_bSTUT213_1': 'bbp172',\n",
    " 'L6_LBC_bSTUT213_1': 'bbp180',\n",
    " 'L6_MC_bSTUT213_1': 'bbp186',\n",
    " 'L6_NBC_bSTUT213_1': 'bbp192',\n",
    " 'L1_NGC-DA_cACint209_1': 'bbp008',\n",
    " 'L1_SLAC_cACint209_1': 'bbp013',\n",
    " 'L23_BP_cACint209_1': 'bbp018',\n",
    " 'L23_BTC_cACint209_1': 'bbp024',\n",
    " 'L23_ChC_cACint209_1': 'bbp026',\n",
    " 'L23_DBC_cACint209_1': 'bbp032',\n",
    " 'L23_LBC_cACint209_1': 'bbp035',\n",
    " 'L23_MC_cACint209_1': 'bbp041',\n",
    " 'L23_NBC_cACint209_1': 'bbp046',\n",
    " 'L23_NGC_cACint209_1': 'bbp051',\n",
    " 'L23_SBC_cACint209_1': 'bbp056',\n",
    " 'L4_BP_cACint209_1': 'bbp061',\n",
    " 'L4_BTC_cACint209_1': 'bbp067',\n",
    " 'L4_ChC_cACint209_1': 'bbp070',\n",
    " 'L4_DBC_cACint209_1': 'bbp077',\n",
    " 'L4_LBC_cACint209_1': 'bbp080',\n",
    " 'L4_MC_cACint209_1': 'bbp087',\n",
    " 'L4_NBC_cACint209_1': 'bbp090',\n",
    " 'L4_NGC_cACint209_1': 'bbp095',\n",
    " 'L4_SBC_cACint209_1': 'bbp100',\n",
    " 'L5_BP_cACint209_1': 'bbp107',\n",
    " 'L5_BTC_cACint209_1': 'bbp111',\n",
    " 'L5_ChC_cACint209_1': 'bbp113',\n",
    " 'L5_DBC_cACint209_1': 'bbp120',\n",
    " 'L5_LBC_cACint209_1': 'bbp124',\n",
    " 'L5_MC_cACint209_1': 'bbp133',\n",
    " 'L5_NBC_cACint209_1': 'bbp140',\n",
    " 'L5_NGC_cACint209_1': 'bbp146',\n",
    " 'L5_SBC_cACint209_1': 'bbp150',\n",
    " 'L6_BP_cACint209_1': 'bbp160',\n",
    " 'L6_BTC_cACint209_1': 'bbp164',\n",
    " 'L6_ChC_cACint209_1': 'bbp166',\n",
    " 'L6_DBC_cACint209_1': 'bbp173',\n",
    " 'L6_MC_cACint209_1': 'bbp187',\n",
    " 'L6_NBC_cACint209_1': 'bbp193',\n",
    " 'L6_NGC_cACint209_1': 'bbp199',\n",
    " 'L6_SBC_cACint209_1': 'bbp203',\n",
    " 'L23_PC_cADpyr229_1': 'bbp054',\n",
    " 'L4_PC_cADpyr230_1': 'bbp098',\n",
    " 'L4_SP_cADpyr230_1': 'bbp102',\n",
    " 'L5_STPC_cADpyr232_1': 'bbp152',\n",
    " 'L5_TTPC1_cADpyr232_1': 'bbp153',\n",
    " 'L5_TTPC2_cADpyr232_1': 'bbp154',\n",
    " 'L5_UTPC_cADpyr232_1': 'bbp155',\n",
    " 'L6_BPC_cADpyr231_1': 'bbp156',\n",
    " 'L6_IPC_cADpyr231_1': 'bbp176',\n",
    " 'L6_TPC_L1_cADpyr231_1': 'bbp205',\n",
    " 'L6_TPC_L4_cADpyr231_1': 'bbp206',\n",
    " 'L6_UTPC_cADpyr231_1': 'bbp207',\n",
    " 'L1_HAC_cIR216_1': 'bbp005',\n",
    " 'L23_NBC_cIR216_1': 'bbp047',\n",
    " 'L4_DBC_cIR216_1': 'bbp078',\n",
    " 'L4_NBC_cIR216_1': 'bbp091',\n",
    " 'L5_DBC_cIR216_1': 'bbp121',\n",
    " 'L5_LBC_cIR216_1': 'bbp125',\n",
    " 'L5_NBC_cIR216_1': 'bbp141',\n",
    " 'L6_DBC_cIR216_1': 'bbp174',\n",
    " 'L6_MC_cIR216_1': 'bbp188',\n",
    " 'L6_NBC_cIR216_1': 'bbp194',\n",
    " 'L1_DAC_cNAC187_1': 'bbp002',\n",
    " 'L1_DLAC_cNAC187_1': 'bbp003',\n",
    " 'L1_HAC_cNAC187_1': 'bbp006',\n",
    " 'L1_NGC-DA_cNAC187_1': 'bbp009',\n",
    " 'L1_NGC-SA_cNAC187_1': 'bbp011',\n",
    " 'L1_SLAC_cNAC187_1': 'bbp014',\n",
    " 'L23_BP_cNAC187_1': 'bbp019',\n",
    " 'L23_BTC_cNAC187_1': 'bbp025',\n",
    " 'L23_ChC_cNAC187_1': 'bbp027',\n",
    " 'L23_LBC_cNAC187_1': 'bbp036',\n",
    " 'L23_MC_cNAC187_1': 'bbp042',\n",
    " 'L23_NBC_cNAC187_1': 'bbp048',\n",
    " 'L23_NGC_cNAC187_1': 'bbp052',\n",
    " 'L4_BP_cNAC187_1': 'bbp062',\n",
    " 'L4_BTC_cNAC187_1': 'bbp068',\n",
    " 'L4_ChC_cNAC187_1': 'bbp071',\n",
    " 'L4_DBC_cNAC187_1': 'bbp079',\n",
    " 'L4_LBC_cNAC187_1': 'bbp081',\n",
    " 'L4_MC_cNAC187_1': 'bbp088',\n",
    " 'L4_NBC_cNAC187_1': 'bbp092',\n",
    " 'L4_NGC_cNAC187_1': 'bbp096',\n",
    " 'L5_BP_cNAC187_1': 'bbp108',\n",
    " 'L5_BTC_cNAC187_1': 'bbp112',\n",
    " 'L5_ChC_cNAC187_1': 'bbp114',\n",
    " 'L5_DBC_cNAC187_1': 'bbp122',\n",
    " 'L5_LBC_cNAC187_1': 'bbp126',\n",
    " 'L5_MC_cNAC187_1': 'bbp134',\n",
    " 'L5_NBC_cNAC187_1': 'bbp142',\n",
    " 'L5_NGC_cNAC187_1': 'bbp147',\n",
    " 'L6_BP_cNAC187_1': 'bbp161',\n",
    " 'L6_BTC_cNAC187_1': 'bbp165',\n",
    " 'L6_ChC_cNAC187_1': 'bbp167',\n",
    " 'L6_DBC_cNAC187_1': 'bbp175',\n",
    " 'L6_LBC_cNAC187_1': 'bbp181',\n",
    " 'L6_MC_cNAC187_1': 'bbp189',\n",
    " 'L6_NBC_cNAC187_1': 'bbp195',\n",
    " 'L6_NGC_cNAC187_1': 'bbp200',\n",
    " 'L1_NGC-DA_cSTUT189_1': 'bbp010',\n",
    " 'L23_LBC_cSTUT189_1': 'bbp037',\n",
    " 'L23_NGC_cSTUT189_1': 'bbp053',\n",
    " 'L4_LBC_cSTUT189_1': 'bbp082',\n",
    " 'L4_NGC_cSTUT189_1': 'bbp097',\n",
    " 'L5_LBC_cSTUT189_1': 'bbp127',\n",
    " 'L5_MC_cSTUT189_1': 'bbp135',\n",
    " 'L5_NBC_cSTUT189_1': 'bbp143',\n",
    " 'L5_NGC_cSTUT189_1': 'bbp148',\n",
    " 'L6_LBC_cSTUT189_1': 'bbp182',\n",
    " 'L6_NBC_cSTUT189_1': 'bbp196',\n",
    " 'L6_NGC_cSTUT189_1': 'bbp201',\n",
    " 'L23_ChC_dNAC222_1': 'bbp028',\n",
    " 'L23_LBC_dNAC222_1': 'bbp038',\n",
    " 'L23_MC_dNAC222_1': 'bbp043',\n",
    " 'L23_NBC_dNAC222_1': 'bbp049',\n",
    " 'L23_SBC_dNAC222_1': 'bbp057',\n",
    " 'L4_BTC_dNAC222_1': 'bbp069',\n",
    " 'L4_ChC_dNAC222_1': 'bbp072',\n",
    " 'L4_LBC_dNAC222_1': 'bbp083',\n",
    " 'L4_MC_dNAC222_1': 'bbp089',\n",
    " 'L4_NBC_dNAC222_1': 'bbp093',\n",
    " 'L4_SBC_dNAC222_1': 'bbp101',\n",
    " 'L5_ChC_dNAC222_1': 'bbp115',\n",
    " 'L5_LBC_dNAC222_1': 'bbp128',\n",
    " 'L5_MC_dNAC222_1': 'bbp136',\n",
    " 'L5_SBC_dNAC222_1': 'bbp151',\n",
    " 'L6_ChC_dNAC222_1': 'bbp168',\n",
    " 'L6_SBC_dNAC222_1': 'bbp204',\n",
    " 'L23_BP_dSTUT214_1': 'bbp020',\n",
    " 'L4_BP_dSTUT214_1': 'bbp063',\n",
    " 'L4_LBC_dSTUT214_1': 'bbp084',\n",
    " 'L5_BP_dSTUT214_1': 'bbp109',\n",
    " 'L5_LBC_dSTUT214_1': 'bbp129',\n",
    " 'L5_NBC_dSTUT214_1': 'bbp144',\n",
    " 'L6_BP_dSTUT214_1': 'bbp162',\n",
    " 'L6_NBC_dSTUT214_1': 'bbp197'}"
   ]
  },
  {
   "cell_type": "code",
   "execution_count": 14,
   "metadata": {},
   "outputs": [
    {
     "data": {
      "text/plain": [
       "169"
      ]
     },
     "execution_count": 14,
     "metadata": {},
     "output_type": "execute_result"
    }
   ],
   "source": [
    "len(mapping.keys())"
   ]
  },
  {
   "cell_type": "code",
   "execution_count": 18,
   "metadata": {},
   "outputs": [],
   "source": [
    "for file in os.listdir(directory):\n",
    "    filename = os.fsdecode(file)\n",
    "    file_name = \"/Users/shivam/Desktop/neuron_analysis/TMD/cells_being_used/\" + filename\n",
    "    if (filename[:len(filename)-4] in mapping.keys()):\n",
    "        neu = tmd.io.load_neuron(file_name)\n",
    "        ph_all = tmd.methods.get_ph_neuron(neu, neurite_type='all')\n",
    "        dist1 = tmd.analysis.distance_horizontal(ph_all,ph_all_base)\n",
    "        actual_name= mapping[filename[:len(filename)-4]]\n",
    "        distance_horizontal.append((actual_name, dist1))\n",
    "        dist2 = tmd.analysis.distance_stepped(ph_all,ph_all_base)\n",
    "        distance_stepped.append((actual_name, dist2))"
   ]
  },
  {
   "cell_type": "code",
   "execution_count": 19,
   "metadata": {},
   "outputs": [],
   "source": [
    "tracked = {}\n",
    "for val in distance_horizontal:\n",
    "    tracked[val[0]] = val[1]"
   ]
  },
  {
   "cell_type": "code",
   "execution_count": 20,
   "metadata": {},
   "outputs": [],
   "source": [
    "distance_horizontal.sort(key=lambda x: x[1])\n",
    "distance_stepped.sort(key=lambda x: x[1])"
   ]
  },
  {
   "cell_type": "code",
   "execution_count": null,
   "metadata": {},
   "outputs": [],
   "source": []
  },
  {
   "cell_type": "code",
   "execution_count": null,
   "metadata": {
    "scrolled": false
   },
   "outputs": [],
   "source": [
    "indices = [1, 103, 206]\n",
    "for i in indices:\n",
    "    filename = distance_horizontal[i][0]\n",
    "    print(filename, i)\n",
    "    file_name = \"/Users/shivam/Desktop/neuron_analysis/TMD/cells_being_used/\" + filename\n",
    "    neu = tmd.io.load_neuron(file_name)\n",
    "    tree = neu.neurites[0]\n",
    "    ph1 = tmd.methods.get_persistence_diagram(tree)\n",
    "    ph_neu = tmd.methods.get_ph_neuron(neu)\n",
    "    view.neuron(neu)\n",
    "    ph_all = tmd.methods.get_ph_neuron(neu, neurite_type='all')\n",
    "    plot.barcode(ph_all)"
   ]
  },
  {
   "cell_type": "code",
   "execution_count": null,
   "metadata": {
    "scrolled": false
   },
   "outputs": [],
   "source": []
  },
  {
   "cell_type": "code",
   "execution_count": null,
   "metadata": {
    "scrolled": false
   },
   "outputs": [],
   "source": [
    "tracker = {}\n",
    "for i in range(len(distance_horizontal)):\n",
    "    curr_elem = distance_stepped[i]\n",
    "    name = curr_elem[0]\n",
    "    value = curr_elem[1]\n",
    "    m_type = name[name.find(\"_\")+1:name.find(\"_\")+1+name[name.find(\"_\")+1:].find(\"_\")]\n",
    "    curr_elems = tracker.get(m_type, [[], []])\n",
    "    curr_elems[0].append(name)\n",
    "    curr_elems[1].append(value)\n",
    "    tracker[m_type] = curr_elems"
   ]
  },
  {
   "cell_type": "code",
   "execution_count": null,
   "metadata": {},
   "outputs": [],
   "source": [
    "import matplotlib\n",
    "import numpy as np\n",
    "import matplotlib.pyplot as plt\n",
    "import seaborn as sns"
   ]
  },
  {
   "cell_type": "code",
   "execution_count": null,
   "metadata": {},
   "outputs": [],
   "source": [
    "import re\n",
    "tracker = {}\n",
    "for i in range(len(distance_horizontal)):\n",
    "    curr_elem = distance_stepped[i]\n",
    "    name = curr_elem[0]\n",
    "    value = curr_elem[1]\n",
    "    second_dash = name[name.find(\"_\")+1+name[name.find(\"_\")+1:].find(\"_\")+1:]\n",
    "    ind = re.search(r\"\\d\", second_dash)\n",
    "    e_type = second_dash[:ind.start()]\n",
    "    curr_elems = tracker.get(e_type, [[], []])\n",
    "    curr_elems[0].append(name)\n",
    "    curr_elems[1].append(value)\n",
    "    tracker[e_type] = curr_elems"
   ]
  },
  {
   "cell_type": "code",
   "execution_count": null,
   "metadata": {},
   "outputs": [],
   "source": [
    "elems = []\n",
    "for key in tracker.keys():\n",
    "    leastcomplex = tracker[key][0][0]\n",
    "    mostcomplex = tracker[key][0][len(tracker[key][0])-1]\n",
    "    file_name = \"/Users/shivam/Desktop/neuron_analysis/TMD/cells_being_used/\" + leastcomplex\n",
    "    neu = tmd.io.load_neuron(file_name)\n",
    "    file_name = \"/Users/shivam/Desktop/neuron_analysis/TMD/cells_being_used/\" + mostcomplex\n",
    "    neu1 = tmd.io.load_neuron(file_name)\n",
    "    elems.append(neu)\n",
    "    elems.append(neu1)"
   ]
  },
  {
   "cell_type": "code",
   "execution_count": null,
   "metadata": {
    "scrolled": false
   },
   "outputs": [],
   "source": [
    "for key in tracker.keys():\n",
    "    print(\"E-type:{}\".format(key))\n",
    "    leastcomplex = tracker[key][0][0]\n",
    "    mostcomplex = tracker[key][0][len(tracker[key][0])-1]\n",
    "    print(\"least complex\")\n",
    "    file_name = \"/Users/shivam/Desktop/neuron_analysis/TMD/cells_being_used/\" + leastcomplex\n",
    "    neu = tmd.io.load_neuron(file_name)\n",
    "    tree = neu.neurites[0]\n",
    "    ph1 = tmd.methods.get_persistence_diagram(tree)\n",
    "    ph_neu = tmd.methods.get_ph_neuron(neu)\n",
    "    view.neuron(neu)\n",
    "    print(\"most complex\")\n",
    "    file_name = \"//Users/shivam/Desktop/neuron_analysos/analysis/TMD/cells_being_used/\" + mostcomplex\n",
    "    neu = tmd.io.load_neuron(file_name)\n",
    "    tree = neu.neurites[0]\n",
    "    ph1 = tmd.methods.get_persistence_diagram(tree)\n",
    "    ph_neu = tmd.methods.get_ph_neuron(neu)\n",
    "    view.neuron(neu)"
   ]
  },
  {
   "cell_type": "code",
   "execution_count": null,
   "metadata": {},
   "outputs": [],
   "source": []
  },
  {
   "cell_type": "code",
   "execution_count": null,
   "metadata": {
    "scrolled": false
   },
   "outputs": [],
   "source": [
    "curr_val = tracker[\"cNAC\"]\n",
    "for filename in curr_val[0]:\n",
    "    file_name = \"//Users/shivam/Desktop/neuron_analysos/analysis/TMD/cells_being_used/\" + filename\n",
    "    neu = tmd.io.load_neuron(file_name)\n",
    "    tree = neu.neurites[0]\n",
    "    ph1 = tmd.methods.get_persistence_diagram(tree)\n",
    "    ph_neu = tmd.methods.get_ph_neuron(neu)\n",
    "    view.neuron(neu)\n",
    "    ph_all = tmd.methods.get_ph_neuron(neu, neurite_type='all')\n",
    "    plot.barcode(ph_all)"
   ]
  },
  {
   "cell_type": "code",
   "execution_count": null,
   "metadata": {
    "scrolled": false
   },
   "outputs": [],
   "source": [
    "fig, ax = plt.subplots()\n",
    "fig.set_size_inches(10, 10, forward = True)\n",
    "leg = []\n",
    "for key in tracker.keys():\n",
    "    x_vals = tracker[key][0]\n",
    "    y_vals = tracker[key][1]\n",
    "    key = plt.scatter(x_vals,y_vals)\n",
    "    plt.xticks(rotation=90)\n",
    "    leg.append(key)\n",
    "plt.legend((leg),('BP', 'DBC', 'SP', 'MC', 'SLAC', 'BTC', 'UTPC', 'DAC', 'STPC', 'PC', 'IPC', 'SBC', 'TPC', 'SS', 'NGC', 'HAC', 'BPC', 'LBC', 'NBC', 'NGC-DA', 'DLAC', 'NGC-SA', 'TTPC2', 'ChC', 'TTPC1'),scatterpoints=1,loc='top left',ncol=3,fontsize=20)\n",
    "plt.title(\"Cell Complexities ranked according to TMD stepped distance\", fontsize = 40)\n",
    "plt.grid()\n",
    "plt.savefig('steppedvstype.png')"
   ]
  },
  {
   "cell_type": "code",
   "execution_count": null,
   "metadata": {},
   "outputs": [],
   "source": [
    "fig, ax = plt.subplots()\n",
    "fig.set_size_inches(10, 10, forward = True)\n",
    "leg = []\n",
    "for key in tracker.keys():\n",
    "    x_vals = tracker[key][0]\n",
    "    y_vals = tracker[key][1]\n",
    "    key = plt.scatter(x_vals,y_vals)\n",
    "    plt.xticks(rotation=90)\n",
    "    leg.append(key)\n",
    "plt.legend((leg),('cACint', 'bNAC', 'dSTUT', 'cNAC', 'bAC', 'bIR', 'bSTUT', 'cIR', 'cADpyr', 'L', 'cSTUT', 'dNAC'),scatterpoints=1,loc='top left',ncol=3,fontsize=20)\n",
    "plt.title(\"Cell Complexities ranked according to TMD stepped distance\", fontsize = 40)\n",
    "plt.grid()\n",
    "plt.savefig('output.png')"
   ]
  },
  {
   "cell_type": "code",
   "execution_count": null,
   "metadata": {},
   "outputs": [],
   "source": [
    "names = list(names)\n",
    "names"
   ]
  },
  {
   "cell_type": "code",
   "execution_count": null,
   "metadata": {},
   "outputs": [],
   "source": []
  }
 ],
 "metadata": {
  "kernelspec": {
   "display_name": "TMD",
   "language": "python",
   "name": "tmd"
  },
  "language_info": {
   "codemirror_mode": {
    "name": "ipython",
    "version": 3
   },
   "file_extension": ".py",
   "mimetype": "text/x-python",
   "name": "python",
   "nbconvert_exporter": "python",
   "pygments_lexer": "ipython3",
   "version": "3.8.1"
  }
 },
 "nbformat": 4,
 "nbformat_minor": 4
}
